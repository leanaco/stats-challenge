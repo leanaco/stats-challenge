{
 "cells": [
  {
   "cell_type": "code",
   "execution_count": 19,
   "metadata": {},
   "outputs": [
    {
     "name": "stdout",
     "output_type": "stream",
     "text": [
      "32.0\n"
     ]
    }
   ],
   "source": [
    "n = 5\n",
    "in1 = \"10 40 30 50 20\"\n",
    "in2 = \"1 2 3 4 5\"\n",
    "\n",
    "x = [int(x) for x in in1.split(' ')]\n",
    "w = [int(x) for x in in2.split(' ')]\n",
    "\n",
    "\n",
    "if n >= 5 and n <= 50 and len([*filter(lambda x: x > 100 or x < 0, x)]) == 0 and len([*filter(lambda x: x > 100 or x < 0, w)]) == 0 :\n",
    "    print(\"{:.1f}\".format(sum([i*j for i,j in zip(x,w)])/sum(w)))\n"
   ]
  },
  {
   "cell_type": "code",
   "execution_count": null,
   "metadata": {
    "collapsed": true
   },
   "outputs": [],
   "source": []
  }
 ],
 "metadata": {
  "kernelspec": {
   "display_name": "Python 3",
   "language": "python",
   "name": "python3"
  },
  "language_info": {
   "codemirror_mode": {
    "name": "ipython",
    "version": 3
   },
   "file_extension": ".py",
   "mimetype": "text/x-python",
   "name": "python",
   "nbconvert_exporter": "python",
   "pygments_lexer": "ipython3",
   "version": "3.6.2"
  }
 },
 "nbformat": 4,
 "nbformat_minor": 2
}
