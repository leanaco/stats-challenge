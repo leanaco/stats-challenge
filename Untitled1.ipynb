{
 "cells": [
  {
   "cell_type": "code",
   "execution_count": 3,
   "metadata": {},
   "outputs": [],
   "source": [
    "import statistics\n",
    "\n",
    "n = 6\n",
    "in1 = \"6 12 8 10 20 16\"\n",
    "in2 = \"5 4 3 2 1 5\"\n",
    "\n",
    "x = [int(x) for x in in1.split(' ')]\n",
    "f = [int(x) for x in in2.split(' ')]"
   ]
  },
  {
   "cell_type": "code",
   "execution_count": 19,
   "metadata": {},
   "outputs": [
    {
     "data": {
      "text/plain": [
       "[6, 6, 6, 6, 6, 8, 8, 8, 8, 10, 10, 10, 12, 12, 16, 20, 20, 20, 20, 20]"
      ]
     },
     "execution_count": 19,
     "metadata": {},
     "output_type": "execute_result"
    }
   ],
   "source": [
    "list_of_lists = [[i]*j for i,j in zip(x,f)]\n",
    "flattened = [val for sublist in list_of_lists for val in sublist]\n",
    "flattened"
   ]
  },
  {
   "cell_type": "code",
   "execution_count": 21,
   "metadata": {},
   "outputs": [
    {
     "name": "stdout",
     "output_type": "stream",
     "text": [
      "20\n",
      "[6, 6, 6, 6, 6, 8, 8, 8, 8, 10]\n",
      "[10, 10, 12, 12, 16, 20, 20, 20, 20, 20]\n",
      "11.0\n"
     ]
    }
   ],
   "source": [
    "print(len(flattened))\n",
    "\n",
    "if n >= 5 and n <= 50 and len([*filter(lambda x: x > 100 or x < 0, x)]) == 0 :\n",
    "    flattened.sort()\n",
    "    if len(flattened)%2 :\n",
    "        l = flattened[:int(len(flattened)/2)]\n",
    "        u = flattened[int(len(flattened)/2)+1:]\n",
    "    else:\n",
    "        l = flattened[:int(len(flattened)/2)]\n",
    "        u = flattened[int(len(flattened)/2):]\n",
    "    \n",
    "    print(l)\n",
    "    print(u)\n",
    "    print(statistics.median(u) - statistics.median(l))\n",
    "\n"
   ]
  },
  {
   "cell_type": "code",
   "execution_count": null,
   "metadata": {
    "collapsed": true
   },
   "outputs": [],
   "source": []
  }
 ],
 "metadata": {
  "kernelspec": {
   "display_name": "Python 3",
   "language": "python",
   "name": "python3"
  },
  "language_info": {
   "codemirror_mode": {
    "name": "ipython",
    "version": 3
   },
   "file_extension": ".py",
   "mimetype": "text/x-python",
   "name": "python",
   "nbconvert_exporter": "python",
   "pygments_lexer": "ipython3",
   "version": "3.6.2"
  }
 },
 "nbformat": 4,
 "nbformat_minor": 2
}
