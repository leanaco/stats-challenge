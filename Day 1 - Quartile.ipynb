{
 "cells": [
  {
   "cell_type": "code",
   "execution_count": 2,
   "metadata": {
    "collapsed": true
   },
   "outputs": [],
   "source": [
    "import statistics\n",
    "\n",
    "n = 9\n",
    "in1 = \"3 7 8 5 12 14 21 13 18\"\n",
    "\n",
    "x = [int(x) for x in in1.split(' ')]\n"
   ]
  },
  {
   "cell_type": "code",
   "execution_count": 19,
   "metadata": {},
   "outputs": [
    {
     "name": "stdout",
     "output_type": "stream",
     "text": [
      "6.0\n",
      "12\n",
      "16.0\n"
     ]
    }
   ],
   "source": [
    "if n >= 5 and n <= 50 and len([*filter(lambda x: x > 100 or x < 0, x)]) == 0 :\n",
    "    x.sort()\n",
    "    if n%2 :\n",
    "        l = x[:int(len(x)/2)]\n",
    "        u = x[int(len(x)/2)+1:]\n",
    "    else:\n",
    "        l = x[:int(len(x)/2)]\n",
    "        u = x[int(len(x)/2):]\n",
    "    print(statistics.median(l))\n",
    "    print(statistics.median(x))\n",
    "    print(statistics.median(u))"
   ]
  },
  {
   "cell_type": "code",
   "execution_count": null,
   "metadata": {
    "collapsed": true
   },
   "outputs": [],
   "source": []
  }
 ],
 "metadata": {
  "kernelspec": {
   "display_name": "Python 3",
   "language": "python",
   "name": "python3"
  },
  "language_info": {
   "codemirror_mode": {
    "name": "ipython",
    "version": 3
   },
   "file_extension": ".py",
   "mimetype": "text/x-python",
   "name": "python",
   "nbconvert_exporter": "python",
   "pygments_lexer": "ipython3",
   "version": "3.6.2"
  }
 },
 "nbformat": 4,
 "nbformat_minor": 2
}
