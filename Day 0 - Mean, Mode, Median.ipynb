{
 "cells": [
  {
   "cell_type": "code",
   "execution_count": 8,
   "metadata": {
    "collapsed": true
   },
   "outputs": [],
   "source": [
    "import math\n",
    "import numpy\n",
    "from scipy import stats\n",
    "from collections import Counter"
   ]
  },
  {
   "cell_type": "code",
   "execution_count": 2,
   "metadata": {
    "collapsed": true
   },
   "outputs": [],
   "source": [
    "# sample input\n",
    "s1 = [10]\n",
    "s2 = [64630, 11735, 14216, 99233, 14470, 4978, 73429, 38120, 51135, 67060] "
   ]
  },
  {
   "cell_type": "code",
   "execution_count": 5,
   "metadata": {
    "collapsed": true
   },
   "outputs": [],
   "source": [
    "# calculate mean\n",
    "def mean(var):\n",
    "    # check constraints\n",
    "    n = len(var)\n",
    "    if n < 10 or n > 2500:\n",
    "        return \"List must have length 10 <= N <= 2500\"\n",
    "    elif len([*filter(lambda x: x > 10e5 or x < 0, s2)]) > 0 :\n",
    "        return \"Items in list must be between 0 <= N <= 10e5\"\n",
    "    else:\n",
    "        return sum(var)/n"
   ]
  },
  {
   "cell_type": "code",
   "execution_count": 6,
   "metadata": {},
   "outputs": [
    {
     "data": {
      "text/plain": [
       "43900.6"
      ]
     },
     "execution_count": 6,
     "metadata": {},
     "output_type": "execute_result"
    }
   ],
   "source": [
    "mean(s2)"
   ]
  },
  {
   "cell_type": "code",
   "execution_count": 7,
   "metadata": {
    "collapsed": true
   },
   "outputs": [],
   "source": [
    "# calculate median\n",
    "\n",
    "def median(var):\n",
    "    var.sort()\n",
    "    n = len(var)\n",
    "    if n < 10 or n > 2500:\n",
    "        return \"List must have length 10 <= N <= 2500\"\n",
    "    elif len([*filter(lambda x: x > 10e5 or x < 0, s2)]) > 0 :\n",
    "        return \"Items in list must be between 0 <= N <= 10e5\"\n",
    "    elif n%2:\n",
    "        return var[math.ceil(n/2)]\n",
    "    else:\n",
    "        return (var[int(n/2)-1]+var[int((n/2))])/2\n"
   ]
  },
  {
   "cell_type": "code",
   "execution_count": 88,
   "metadata": {},
   "outputs": [
    {
     "data": {
      "text/plain": [
       "44627.5"
      ]
     },
     "execution_count": 88,
     "metadata": {},
     "output_type": "execute_result"
    }
   ],
   "source": [
    "median(s2)"
   ]
  },
  {
   "cell_type": "code",
   "execution_count": 15,
   "metadata": {
    "collapsed": true
   },
   "outputs": [],
   "source": [
    "# calculate mode\n",
    "\n",
    "def mode(var):\n",
    "    n = len(var)\n",
    "    if n < 10 or n > 2500:\n",
    "        return \"List must have length 10 <= N <= 2500\"\n",
    "    elif len([*filter(lambda x: x > 10e5 or x < 0, s2)]) > 0 :\n",
    "        return \"Items in list must be between 0 <= N <= 10e5\"\n",
    "    else:\n",
    "        return stats.mode(var)[0][0]\n"
   ]
  },
  {
   "cell_type": "code",
   "execution_count": 16,
   "metadata": {},
   "outputs": [
    {
     "data": {
      "text/plain": [
       "4978"
      ]
     },
     "execution_count": 16,
     "metadata": {},
     "output_type": "execute_result"
    }
   ],
   "source": [
    "mode(s2)"
   ]
  },
  {
   "cell_type": "code",
   "execution_count": null,
   "metadata": {
    "collapsed": true
   },
   "outputs": [],
   "source": []
  }
 ],
 "metadata": {
  "kernelspec": {
   "display_name": "Python 3",
   "language": "python",
   "name": "python3"
  },
  "language_info": {
   "codemirror_mode": {
    "name": "ipython",
    "version": 3
   },
   "file_extension": ".py",
   "mimetype": "text/x-python",
   "name": "python",
   "nbconvert_exporter": "python",
   "pygments_lexer": "ipython3",
   "version": "3.6.2"
  }
 },
 "nbformat": 4,
 "nbformat_minor": 2
}
